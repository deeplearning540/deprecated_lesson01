{
 "cells": [
  {
   "cell_type": "markdown",
   "metadata": {
    "collapsed": false
   },
   "source": [
    "# Diving into Data Science with Regression\n",
    "\n",
    "Every data science project can and should follow a given structure. In this lesson, we introduce this structure and use one-dimensional regression as an example. To the best of our capabilities, the proposed structure should be followed in practice.\n",
    "\n",
    "## PPDAC: Problem, Plan, Data, Analysis and Conclusion\n",
    "\n",
    "![from creativemaths.net/blog](https://learnandteachstatistics.files.wordpress.com/2015/07/ppdac_complete_background.png)\n",
    "\n",
    "- **Problem**: understanding and defining the problem, how do we go about answering?\n",
    "- **Plan**: What to measure and how? Study design? Recording? Collecting?\n",
    "- **Data**: collection, management, cleaning\n",
    "- **Analysis**: sort data; construct tables, graphs; look for patterns; hypothesis generation\n",
    "- **Conclusion**: Communication, Conclusions, Interpretation, New Ideas (Repeat Cycle if required)\n",
    "\n",
    "For more details, see Wolff, A. et al, \"Creating an Understanding of Data Literacy for a Data-driven Society\", The Journal of Community Informatics, Vol 12, issue 3, 2016, doi:[10.15353/joci.v12i3.3275](https://www.ci-journal.net/index.php/JoCI/article/view/3275)"
   ]
  },
  {
   "cell_type": "markdown",
   "metadata": {
    "collapsed": false
   },
   "source": [
    "## Problem statement\n",
    "\n",
    "![from commons.wikimedia](https://upload.wikimedia.org/wikipedia/commons/0/0d/Blue_iceberg_south_polar_circle.jpg)\n",
    "\n",
    "- I like to know if the amount of ice on polar caps is really decreasing per year. \n",
    "- For this, I'd like to know how much ice is found during the coldest period of the polar year (March).\n",
    "- it might be nice to know by how much the polar is getting less per year."
   ]
  },
  {
   "cell_type": "markdown",
   "metadata": {
    "collapsed": false
   },
   "source": [
    "## Plan\n",
    "\n",
    "- I need data from the polar region that reports the monthly ice area over last years. \n",
    "- It might be nice if this data goes back to the 19th century so that I can be sure of the trend.\n",
    "- This data should not be large and can be stored locally so that I can always return to it.\n",
    "- I am mostly interested on the ice surface area as a proxy metric/observable for the amount of ice."
   ]
  },
  {
   "cell_type": "markdown",
   "metadata": {
    "collapsed": false
   },
   "source": [
    "## Data\n",
    "\n",
    "- Updated June 2020\n",
    "- Can be obtained from [here](http://sustainabilitymath.org/excel/ArcticIceDataMonth-R.csv) \n",
    "- Data from the National Snow and Ice Data Center: http://nsidc.org; Sea Ice Index page http://nsidc.org/data/g02135.html; Data Located at  ftp://sidads.colorado.edu/DATASETS/NOAA/G02135/\n",
    " \n",
    "> Important Note: The \"extent\" column includes the area near the pole not\n",
    "> imaged by the sensor. It is assumed to be entirely ice covered with at\n",
    "> least 15% concentration. However, the \"area\" column excludes the area not\n",
    "> imaged by the sensor. This area is 1.19 million square kilometers for SMMR\n",
    "> (from the beginning of the series through June 1987) and 0.31 million\n",
    "> square kilometers for SSM/I (from July 1987 to present). Therefore, there\n",
    "> is a discontinuity in the \"area\" data values in this file at the June/July\n",
    "> 1987 boundary.\n",
    "> \n",
    "\n"
   ]
  },
  {
   "cell_type": "code",
   "execution_count": null,
   "metadata": {
    "collapsed": false
   },
   "outputs": [],
   "source": []
  }
 ],
 "metadata": {
  "kernelspec": {
   "argv": [
    "python",
    "-m",
    "ipykernel_launcher",
    "-f",
    "{connection_file}"
   ],
   "display_name": "Python 3",
   "env": null,
   "interrupt_mode": "signal",
   "language": "python",
   "metadata": null,
   "name": "python3"
  },
  "name": "lesson.ipynb"
 },
 "nbformat": 4,
 "nbformat_minor": 4
}
